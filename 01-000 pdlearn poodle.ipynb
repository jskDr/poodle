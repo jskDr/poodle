{
 "cells": [
  {
   "cell_type": "markdown",
   "metadata": {},
   "source": [
    "# Poodle: Pandas + Sklearn\n",
    "Pandas is a wonderful framework for data management. Also, Sklearn is a powerful tool for machine learning. However, there is no one which mix them up. Poodle is a package which mixes Pandas and Sklearn in order to give convenience and power at the same time in Data science. \n",
    "\n",
    "Previously, you should read data from a file first before performing machine learning unless it is generated online. In Poodle, you don't need to read your data using seprate steps. The machine learning tools in Poodle will read data from a file if it is needed. Moreover, your data sheet files are always synchronized with your machine learning operation. Therfore, you can keep monitoring your data during your operation for machine leanring. \n",
    "\n",
    "This is a basic tutorial illustraiting how to use Poodle although this tutorial is underdevelopment. By reading this document, you can realize what poodle will do. As a data scientist, I feel very tried always when I performance machine learning because of two reasons mainly. First, as I metioned above there should be steps to load data into memory for machine learning. Second, after data is loaded into memeory, it is really hard to monitor the processing of data during performing machine learning. Therefore, you often save your data in each step by yourself. It makes tiresome in you processing. Poodle will be a solution to make this step removal and make that process all automatic. \n",
    "\n",
    "Below, the simple usage of Poodle is introduced using an example. The example is linear regression with dummy data. In order to test this example by yourself. You need two files, which are poodle codes in poole/linear_model.py and dumy data in sheet/xy_pdl.csv.\n",
    "\n",
    "Notice that even if the input data file format follows CSV, the actual format is extension of CSV. You should use ID, X, y as special keywords where X and y repreents a feature array and a target array as used in Sklearn. Moreover, ID represents the index column which will be index of DataFrame(). Interestingly, feature names such as x1, x2, x3 below X are not determined so that you can use any words for them. It gives great flexibility in your processing. The y1, y2 below y are the same, you can use 'left', 'right' instead of 'y1', 'y2' acording to your project for running machine learning. Similarly, the index names below ID are also flexible. Now, numeric values sorted are used but you can use any words for them regradless ordering or not.    "
   ]
  },
  {
   "cell_type": "code",
   "execution_count": 15,
   "metadata": {
    "collapsed": true
   },
   "outputs": [],
   "source": [
    "from importlib import reload"
   ]
  },
  {
   "cell_type": "markdown",
   "metadata": {},
   "source": [
    "## Start from linear regression\n",
    "Let us start from linear regression which is a simple but widely using machine learning method. "
   ]
  },
  {
   "cell_type": "markdown",
   "metadata": {},
   "source": [
    "In Poodle, linear_model() can be imported like that in Sklearn. In Sklearn, input and output data are variables while Poodle support a CSV file based on Pandas DataFrame()."
   ]
  },
  {
   "cell_type": "code",
   "execution_count": 16,
   "metadata": {
    "collapsed": false
   },
   "outputs": [],
   "source": [
    "from poodle import linear_model"
   ]
  },
  {
   "cell_type": "markdown",
   "metadata": {},
   "source": [
    "As it is metioned before, the command in Sklearn for LinearRegression can be used except that the input data are not arrays any longer. Instead, they are data in a CSV file. Hence, you can give a file name instead of X, y as arrays. \n",
    "- fit() is modified function for special purpose such as loading input data from a file. "
   ]
  },
  {
   "cell_type": "code",
   "execution_count": 17,
   "metadata": {
    "collapsed": false
   },
   "outputs": [
    {
     "data": {
      "text/plain": [
       "LinearRegression()"
      ]
     },
     "execution_count": 17,
     "metadata": {},
     "output_type": "execute_result"
    }
   ],
   "source": [
    "ml = linear_model.LinearRegression()\n",
    "ml.fit('sheet/xy_pdl.csv')"
   ]
  },
  {
   "cell_type": "markdown",
   "metadata": {},
   "source": [
    "Now every other operations are the same to the commands in orginal LinearRegression method. You can predict for new input data. Now additional input data is not a file. It will be updated to use file later on. After that, you can specify traning data on fit() while testing on predict(). \n",
    "- predict() is the same function in Sklearn. It is a parenet function by class."
   ]
  },
  {
   "cell_type": "code",
   "execution_count": 18,
   "metadata": {
    "collapsed": false
   },
   "outputs": [
    {
     "data": {
      "text/plain": [
       "array([[  6.,  20.]])"
      ]
     },
     "execution_count": 18,
     "metadata": {},
     "output_type": "execute_result"
    }
   ],
   "source": [
    "ml.predict( [[1,2,3]])"
   ]
  },
  {
   "cell_type": "markdown",
   "metadata": {},
   "source": [
    "## Format for datasheet"
   ]
  },
  {
   "cell_type": "markdown",
   "metadata": {},
   "source": [
    "In Poodle, some format in a datasheet must be followed. Otherwise, the operation for machine leanring will not be working.\n",
    "- To write data, you can refer to example datasheet of sheet/xy_pdl.csv"
   ]
  },
  {
   "cell_type": "code",
   "execution_count": 21,
   "metadata": {
    "collapsed": false
   },
   "outputs": [
    {
     "data": {
      "text/html": [
       "<div>\n",
       "<table border=\"1\" class=\"dataframe\">\n",
       "  <thead>\n",
       "    <tr>\n",
       "      <th></th>\n",
       "      <th colspan=\"3\" halign=\"left\">X</th>\n",
       "      <th colspan=\"2\" halign=\"left\">y</th>\n",
       "    </tr>\n",
       "    <tr>\n",
       "      <th></th>\n",
       "      <th>x1</th>\n",
       "      <th>x2</th>\n",
       "      <th>x3</th>\n",
       "      <th>y1</th>\n",
       "      <th>y2</th>\n",
       "    </tr>\n",
       "    <tr>\n",
       "      <th>id</th>\n",
       "      <th></th>\n",
       "      <th></th>\n",
       "      <th></th>\n",
       "      <th></th>\n",
       "      <th></th>\n",
       "    </tr>\n",
       "  </thead>\n",
       "  <tbody>\n",
       "    <tr>\n",
       "      <th>0</th>\n",
       "      <td>1</td>\n",
       "      <td>2</td>\n",
       "      <td>3</td>\n",
       "      <td>6</td>\n",
       "      <td>20</td>\n",
       "    </tr>\n",
       "    <tr>\n",
       "      <th>1</th>\n",
       "      <td>4</td>\n",
       "      <td>5</td>\n",
       "      <td>6</td>\n",
       "      <td>15</td>\n",
       "      <td>47</td>\n",
       "    </tr>\n",
       "    <tr>\n",
       "      <th>2</th>\n",
       "      <td>7</td>\n",
       "      <td>8</td>\n",
       "      <td>9</td>\n",
       "      <td>24</td>\n",
       "      <td>74</td>\n",
       "    </tr>\n",
       "    <tr>\n",
       "      <th>3</th>\n",
       "      <td>4</td>\n",
       "      <td>5</td>\n",
       "      <td>8</td>\n",
       "      <td>17</td>\n",
       "      <td>55</td>\n",
       "    </tr>\n",
       "    <tr>\n",
       "      <th>4</th>\n",
       "      <td>8</td>\n",
       "      <td>9</td>\n",
       "      <td>4</td>\n",
       "      <td>21</td>\n",
       "      <td>59</td>\n",
       "    </tr>\n",
       "  </tbody>\n",
       "</table>\n",
       "</div>"
      ],
      "text/plain": [
       "    X         y    \n",
       "   x1 x2 x3  y1  y2\n",
       "id                 \n",
       "0   1  2  3   6  20\n",
       "1   4  5  6  15  47\n",
       "2   7  8  9  24  74\n",
       "3   4  5  8  17  55\n",
       "4   8  9  4  21  59"
      ]
     },
     "execution_count": 21,
     "metadata": {},
     "output_type": "execute_result"
    }
   ],
   "source": [
    "linear_model.read_csv( 'sheet/xy_pdl.csv')"
   ]
  },
  {
   "cell_type": "markdown",
   "metadata": {},
   "source": [
    "## Later plan\n",
    "Other functions in LinearRegression() and other tools in Sklearn will be included in Poodle step by step. "
   ]
  },
  {
   "cell_type": "code",
   "execution_count": null,
   "metadata": {
    "collapsed": true
   },
   "outputs": [],
   "source": []
  }
 ],
 "metadata": {
  "kernelspec": {
   "display_name": "Python 3",
   "language": "python",
   "name": "python3"
  },
  "language_info": {
   "codemirror_mode": {
    "name": "ipython",
    "version": 3
   },
   "file_extension": ".py",
   "mimetype": "text/x-python",
   "name": "python",
   "nbconvert_exporter": "python",
   "pygments_lexer": "ipython3",
   "version": "3.5.1"
  }
 },
 "nbformat": 4,
 "nbformat_minor": 0
}
